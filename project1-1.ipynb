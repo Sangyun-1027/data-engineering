{
 "cells": [
  {
   "cell_type": "code",
   "execution_count": 41,
   "id": "9884ff85-6dc5-47d0-8ab9-dc1e90c4f94e",
   "metadata": {
    "tags": []
   },
   "outputs": [],
   "source": [
    "lovely_loveseat_description = \"Lovely Loveseat. Tufted polyester blend on wood. 32 inches high x 40 inches wide x 30 inches deep. Red or white.\"\n",
    "lovely_loveseat_price = 254.00"
   ]
  },
  {
   "cell_type": "code",
   "execution_count": 42,
   "id": "1e40cf53-e511-4e84-9d30-68a5ae1e3eac",
   "metadata": {
    "tags": []
   },
   "outputs": [],
   "source": [
    "stylish_settee_description = \"Stylish Settee. Faux leather on birch. 29.50 inches high x 54.75 inches wide x 28 inches deep. Black.\"\n",
    "stylish_settee_price = 180.50"
   ]
  },
  {
   "cell_type": "code",
   "execution_count": 43,
   "id": "7532cd6a-a126-4917-983f-0d60e61c16e4",
   "metadata": {
    "tags": []
   },
   "outputs": [],
   "source": [
    "luxurious_lamp_description = \"Luxurious Lamp. Glass and iron. 36 inches tall. Brown with cream shade.\"\n",
    "luxurious_lamp_price = 52.15"
   ]
  },
  {
   "cell_type": "code",
   "execution_count": 44,
   "id": "942b0260-709a-4a97-b365-080f6541009f",
   "metadata": {
    "tags": []
   },
   "outputs": [],
   "source": [
    "sales_tax = 0.088"
   ]
  },
  {
   "cell_type": "code",
   "execution_count": 45,
   "id": "4022ab0f-dc52-41c7-95d9-b743c79b2c2c",
   "metadata": {
    "tags": []
   },
   "outputs": [],
   "source": [
    "customer_one_total = 0\n",
    "customer_one_itemization = \"\""
   ]
  },
  {
   "cell_type": "code",
   "execution_count": 46,
   "id": "ec16945e-c164-4b4d-bcfd-6e21855d41ea",
   "metadata": {
    "tags": []
   },
   "outputs": [],
   "source": [
    "customer_one_total += lovely_loveseat_price\n",
    "customer_one_itemization += lovely_loveseat_description"
   ]
  },
  {
   "cell_type": "code",
   "execution_count": 47,
   "id": "8f499a18-b70b-4625-a80e-f9a0937e6cec",
   "metadata": {
    "tags": []
   },
   "outputs": [],
   "source": [
    "customer_one_total += luxurious_lamp_price\n",
    "customer_one_itemization += luxurious_lamp_description"
   ]
  },
  {
   "cell_type": "code",
   "execution_count": 48,
   "id": "96dae114-eeb2-4825-8014-78fde8b9a2b0",
   "metadata": {
    "tags": []
   },
   "outputs": [],
   "source": [
    "customer_one_tax = customer_one_total * sales_tax"
   ]
  },
  {
   "cell_type": "code",
   "execution_count": 49,
   "id": "7b4d927d-f2a2-4fc7-82e5-f0e0f970ae8a",
   "metadata": {
    "tags": []
   },
   "outputs": [],
   "source": [
    "customer_one_total += customer_one_tax"
   ]
  },
  {
   "cell_type": "code",
   "execution_count": 50,
   "id": "bb8e1efb-4753-4fbd-bb1d-f327f3c9ef5f",
   "metadata": {
    "tags": []
   },
   "outputs": [
    {
     "name": "stdout",
     "output_type": "stream",
     "text": [
      "Customer One Items:\n",
      "Lovely Loveseat. Tufted polyester blend on wood. 32 inches high x 40 inches wide x 30 inches deep. Red or white.Luxurious Lamp. Glass and iron. 36 inches tall. Brown with cream shade.\n",
      "Customer One Total:\n",
      "333.09119999999996\n"
     ]
    }
   ],
   "source": [
    "print(\"Customer One Items:\")\n",
    "print(customer_one_itemization)\n",
    "print(\"Customer One Total:\")\n",
    "print(customer_one_total)"
   ]
  },
  {
   "cell_type": "code",
   "execution_count": null,
   "id": "e47ea1a7-e997-4d6f-9fe1-fe804f948a5a",
   "metadata": {},
   "outputs": [],
   "source": []
  }
 ],
 "metadata": {
  "kernelspec": {
   "display_name": "Python 3 (ipykernel)",
   "language": "python",
   "name": "python3"
  },
  "language_info": {
   "codemirror_mode": {
    "name": "ipython",
    "version": 3
   },
   "file_extension": ".py",
   "mimetype": "text/x-python",
   "name": "python",
   "nbconvert_exporter": "python",
   "pygments_lexer": "ipython3",
   "version": "3.7.16"
  }
 },
 "nbformat": 4,
 "nbformat_minor": 5
}
