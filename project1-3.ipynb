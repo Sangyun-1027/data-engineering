{
 "cells": [
  {
   "cell_type": "code",
   "execution_count": 27,
   "id": "03a16b81-caab-40dd-a68e-43e7f0e09b2f",
   "metadata": {
    "tags": []
   },
   "outputs": [],
   "source": [
    "hairstyles = [\"bouffant\", \"pixie\", \"dreadlocks\", \"crew\", \"bowl\", \"bob\", \"mohawk\", \"flattop\"]\n",
    "prices = [30, 25, 40, 20, 20, 35, 50, 35]\n",
    "last_week = [2, 3, 5, 8, 4, 4, 6, 2]"
   ]
  },
  {
   "cell_type": "code",
   "execution_count": 28,
   "id": "3df44dfc-2173-4bc1-a6c4-faa83f59e38b",
   "metadata": {
    "tags": []
   },
   "outputs": [],
   "source": [
    "total_price = 0"
   ]
  },
  {
   "cell_type": "code",
   "execution_count": 29,
   "id": "77598ecc-2afe-403d-9369-5280f65514fe",
   "metadata": {
    "tags": []
   },
   "outputs": [],
   "source": [
    "for price in prices:\n",
    "    total_price += price"
   ]
  },
  {
   "cell_type": "code",
   "execution_count": 30,
   "id": "29497b53-c9b5-4900-9329-68ad2af35bde",
   "metadata": {
    "tags": []
   },
   "outputs": [],
   "source": [
    "average_price = total_price/len(prices)"
   ]
  },
  {
   "cell_type": "code",
   "execution_count": 31,
   "id": "591142e9-ffba-470a-bba9-8ecf912dc3d2",
   "metadata": {
    "tags": []
   },
   "outputs": [
    {
     "name": "stdout",
     "output_type": "stream",
     "text": [
      "Average price is 31.875\n"
     ]
    }
   ],
   "source": [
    "print(\"Average price is \" + str(average_price))"
   ]
  },
  {
   "cell_type": "code",
   "execution_count": 32,
   "id": "bd9cc1b3-2d50-4932-87f8-bd4820cc7df4",
   "metadata": {
    "tags": []
   },
   "outputs": [],
   "source": [
    "new_prices = [price - 5 for price in prices]"
   ]
  },
  {
   "cell_type": "code",
   "execution_count": 33,
   "id": "ce742287-ae09-428a-9b7d-e4fb08e2b9d7",
   "metadata": {
    "tags": []
   },
   "outputs": [
    {
     "name": "stdout",
     "output_type": "stream",
     "text": [
      "[25, 20, 35, 15, 15, 30, 45, 30]\n"
     ]
    }
   ],
   "source": [
    "print(new_prices)"
   ]
  },
  {
   "cell_type": "code",
   "execution_count": 34,
   "id": "d603fabb-de01-4978-93f9-ed1b519a28f9",
   "metadata": {
    "tags": []
   },
   "outputs": [],
   "source": [
    "total_revenue = 0"
   ]
  },
  {
   "cell_type": "code",
   "execution_count": 35,
   "id": "17be7a65-c9b7-4612-8d3d-8a4231feaff9",
   "metadata": {
    "tags": []
   },
   "outputs": [
    {
     "name": "stdout",
     "output_type": "stream",
     "text": [
      "1085\n"
     ]
    }
   ],
   "source": [
    "for i in range(len(hairstyles)):\n",
    "    total_revenue += prices[i] * last_week[i]\n",
    "    \n",
    "print(total_revenue)"
   ]
  },
  {
   "cell_type": "code",
   "execution_count": 36,
   "id": "c219c755-fe7f-4b44-bb6f-71e455deb29f",
   "metadata": {
    "tags": []
   },
   "outputs": [
    {
     "name": "stdout",
     "output_type": "stream",
     "text": [
      "Average daily revenue is 155.0\n"
     ]
    }
   ],
   "source": [
    "average_daily_revenue = total_revenue / 7\n",
    "\n",
    "print(\"Average daily revenue is \" + str(average_daily_revenue))"
   ]
  },
  {
   "cell_type": "code",
   "execution_count": 37,
   "id": "cc6d950b-b5db-42a3-a25b-9a293a12bdbe",
   "metadata": {
    "tags": []
   },
   "outputs": [],
   "source": [
    "cuts_under_30 = []"
   ]
  },
  {
   "cell_type": "code",
   "execution_count": 38,
   "id": "35ae281c-9f85-4801-a1fa-10cef9593bb9",
   "metadata": {
    "tags": []
   },
   "outputs": [],
   "source": [
    "for i in range(len(hairstyles)):\n",
    "    if prices[i] <= 30:\n",
    "        cuts_under_30.append(hairstyles[i])"
   ]
  },
  {
   "cell_type": "code",
   "execution_count": 39,
   "id": "bf34d821-9914-40c2-9c19-ff4d63349818",
   "metadata": {
    "tags": []
   },
   "outputs": [
    {
     "name": "stdout",
     "output_type": "stream",
     "text": [
      "['bouffant', 'pixie', 'crew', 'bowl']\n"
     ]
    }
   ],
   "source": [
    "print(cuts_under_30)"
   ]
  },
  {
   "cell_type": "code",
   "execution_count": null,
   "id": "2b51df30-b8f2-411b-8f2b-aac6210608b7",
   "metadata": {},
   "outputs": [],
   "source": []
  }
 ],
 "metadata": {
  "kernelspec": {
   "display_name": "Python 3 (ipykernel)",
   "language": "python",
   "name": "python3"
  },
  "language_info": {
   "codemirror_mode": {
    "name": "ipython",
    "version": 3
   },
   "file_extension": ".py",
   "mimetype": "text/x-python",
   "name": "python",
   "nbconvert_exporter": "python",
   "pygments_lexer": "ipython3",
   "version": "3.7.16"
  }
 },
 "nbformat": 4,
 "nbformat_minor": 5
}
