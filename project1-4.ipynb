{
 "cells": [
  {
   "cell_type": "code",
   "execution_count": 16,
   "id": "c9607ce3-7b75-4edd-bc19-e2249d611043",
   "metadata": {
    "tags": []
   },
   "outputs": [],
   "source": [
    "month_name = ['쌍', '쇠', '복', '돌', '팽', '육', '쌍', '개', '칠', '갑', '삼', '방']"
   ]
  },
  {
   "cell_type": "code",
   "execution_count": 17,
   "id": "0775cedd-428c-4348-99fe-9ad5abc2c11a",
   "metadata": {
    "tags": []
   },
   "outputs": [
    {
     "name": "stdout",
     "output_type": "stream",
     "text": [
      "['쌍', '쇠', '복', '돌', '팽', '육', '쌍', '개', '칠', '갑', '삼', '방']\n"
     ]
    }
   ],
   "source": [
    "print(month_name)"
   ]
  },
  {
   "cell_type": "code",
   "execution_count": 18,
   "id": "d89dee7b-3205-4484-ac04-640b7c258de8",
   "metadata": {
    "tags": []
   },
   "outputs": [],
   "source": [
    "day_name = ['봉', '구', '욕', '포', '똥', '삼', '식', '석', '놈', '님', '년', '돌', '단', '득', '방', '질', '장', '걸', '래', '룡', '동', '순', '자', '박', '창', '언', '것', '포', '만', '단', '국']"
   ]
  },
  {
   "cell_type": "code",
   "execution_count": 19,
   "id": "bc176e17-42e5-487b-b02a-422fc20c4852",
   "metadata": {
    "tags": []
   },
   "outputs": [
    {
     "name": "stdout",
     "output_type": "stream",
     "text": [
      "['봉', '구', '욕', '포', '똥', '삼', '식', '석', '놈', '님', '년', '돌', '단', '득', '방', '질', '장', '걸', '래', '룡', '동', '순', '자', '박', '창', '언', '것', '포', '만', '단', '국']\n"
     ]
    }
   ],
   "source": [
    "print(day_name)"
   ]
  },
  {
   "cell_type": "code",
   "execution_count": 20,
   "id": "24d88681-7e9c-40e0-8815-af5380141fcb",
   "metadata": {
    "tags": []
   },
   "outputs": [],
   "source": [
    "def get_my_chosun_name(family_name, month, day):\n",
    "    chosun_name = family_name + month_name[month-1] + day_name[day-1]\n",
    "    return f\"당신의 조선시대 이름은 {chosun_name} 입니다\""
   ]
  },
  {
   "cell_type": "code",
   "execution_count": 21,
   "id": "c758f119-e433-4aa7-81d5-1639b1ea80ad",
   "metadata": {
    "tags": []
   },
   "outputs": [
    {
     "name": "stdout",
     "output_type": "stream",
     "text": [
      "당신의 조선시대 이름은 안칠걸 입니다\n"
     ]
    }
   ],
   "source": [
    "print(get_my_chosun_name('안',9,18))"
   ]
  },
  {
   "cell_type": "code",
   "execution_count": null,
   "id": "d6381966-7f68-4dbb-ac1b-f3dd9f920c25",
   "metadata": {},
   "outputs": [],
   "source": []
  }
 ],
 "metadata": {
  "kernelspec": {
   "display_name": "Python 3 (ipykernel)",
   "language": "python",
   "name": "python3"
  },
  "language_info": {
   "codemirror_mode": {
    "name": "ipython",
    "version": 3
   },
   "file_extension": ".py",
   "mimetype": "text/x-python",
   "name": "python",
   "nbconvert_exporter": "python",
   "pygments_lexer": "ipython3",
   "version": "3.7.16"
  }
 },
 "nbformat": 4,
 "nbformat_minor": 5
}
